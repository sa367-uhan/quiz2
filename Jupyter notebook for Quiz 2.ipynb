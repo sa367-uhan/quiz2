{
 "cells": [
  {
   "cell_type": "markdown",
   "metadata": {
    "hide_cell": true
   },
   "source": [
    "<span class='note'>*Make me look good.* Click on the cell below and press <kbd>Ctrl</kbd>-<kbd>Enter</kbd>.</span>"
   ]
  },
  {
   "cell_type": "code",
   "execution_count": 1,
   "metadata": {
    "hide_cell": true
   },
   "outputs": [
    {
     "data": {
      "text/html": [
       "<link href='http://fonts.googleapis.com/css?family=Lora:400,700,400i,700i' rel='stylesheet'>\n",
       "<link href='https://fonts.googleapis.com/css?family=Lato:300,400,700,300i,400i,700i' rel='stylesheet'>\n",
       "<link href='https://fonts.googleapis.com/css?family=Inconsolata:400' rel='stylesheet'>\n",
       "<link rel=\"stylesheet\" href=\"http://maxcdn.bootstrapcdn.com/font-awesome/4.3.0/css/font-awesome.min.css\">\n",
       "<style>\n",
       "    h1, h2, h3, h4, h5 {\n",
       "        font-family: 'Lato', sans-serif;\n",
       "    }\n",
       "    h5 {\n",
       "        font-style: normal;\n",
       "    }\n",
       "    kbd {\n",
       "        font-family: Lato, serif;\n",
       "    }\n",
       "    .cite {\n",
       "        font-size: 85%;\n",
       "        text-align: right;\n",
       "        margin-top: 10px;\n",
       "    }\n",
       "    .note {\n",
       "        font-family: Lora, serif;\n",
       "        font-size: 10pt;\n",
       "        font-weight: 400;\n",
       "        margin-top: 0;\n",
       "        margin-bottom: 0;\n",
       "    }\n",
       "    h5.prehead {\n",
       "        font-family: Lato, serif;\n",
       "        font-style: normal;\n",
       "        font-size: 13pt;\n",
       "        font-weight: 300;\n",
       "        margin-bottom: 15px;\n",
       "        margin-top: 30px;\n",
       "    }\n",
       "    h5.lesson {\n",
       "        font-family: Lato, serif;\n",
       "        font-weight: 400;\n",
       "        font-size: 13pt;\n",
       "        font-style: normal;   \n",
       "        margin-top: 0px;\n",
       "        margin-bottom: 5px;\n",
       "    }\n",
       "    h1.lesson_title {\n",
       "        font-family: Lato, serif;\n",
       "        font-weight: 300;\n",
       "        font-size: 32pt;\n",
       "        line-height: 110%;\n",
       "        color:#CD2305;\n",
       "        margin-top: 0px;\n",
       "        margin-bottom: 15px;\n",
       "    }   \n",
       "    div.cell{\n",
       "        max-width: 960px;\n",
       "        margin-left: auto;\n",
       "        margin-right: auto;\n",
       "    }\n",
       "    div.text_cell_render {\n",
       "        font-family: Lora, serif;\n",
       "        line-height: 160%;\n",
       "        font-size: 11pt;\n",
       "    }\n",
       "    .rendered_html pre, .rendered_html code  {\n",
       "        font-family: Inconsolata, monospace !important;\n",
       "    }\n",
       "    div.CodeMirror, div.output_area pre, div.prompt {\n",
       "        font-family: Inconsolata, monospace !important;\n",
       "        font-size: 110%;\n",
       "    }\n",
       "    .rendered_html ul li {\n",
       "        margin-top: 0.75em;\n",
       "        margin-bottom: 0.75em; \n",
       "    }\n",
       "    .rendered_html ul li ul li {\n",
       "        margin-top: 0.5em;\n",
       "        margin-bottom: 0.5em; \n",
       "    }\n",
       "    .rred {\n",
       "        color: #a00000;\n",
       "    }\n",
       "</style>\n",
       "<script>\n",
       "    MathJax.Hub.Config({\n",
       "                        TeX: {\n",
       "                           extensions: [\"AMSmath.js\"]\n",
       "                           },\n",
       "                tex2jax: {\n",
       "                    inlineMath: [ ['$','$'], [\"\\\\(\",\"\\\\)\"] ],\n",
       "                    displayMath: [ ['$$','$$'], [\"\\\\[\",\"\\\\]\"] ]\n",
       "                },\n",
       "                displayAlign: 'center', // Change this to 'center' to center equations.\n",
       "                \"HTML-CSS\": {\n",
       "                    styles: {'.MathJax_Display': {\"margin\": \"0.75em 0\"}}\n",
       "                }\n",
       "        });\n",
       "</script>\n"
      ],
      "text/plain": [
       "<IPython.core.display.HTML object>"
      ]
     },
     "execution_count": 1,
     "metadata": {},
     "output_type": "execute_result"
    }
   ],
   "source": [
    "from IPython.core.display import HTML\n",
    "def css_styling():\n",
    "    styles = open('css/custom.css', 'r').read()\n",
    "    return HTML(styles)\n",
    "css_styling()"
   ]
  },
  {
   "cell_type": "markdown",
   "metadata": {
    "hide_cell": true
   },
   "source": [
    "<h5 class='prehead'>SA367 &middot; Mathematical Models for Decision Making &middot; Spring 2020 &middot; Uhan</h5>\n",
    "\n",
    "<h1 class='lesson_title'>Quiz 2 &mdash; 23 January 2020</h1>"
   ]
  },
  {
   "cell_type": "markdown",
   "metadata": {
    "hide_cell": true
   },
   "source": [
    "## Instructions"
   ]
  },
  {
   "cell_type": "markdown",
   "metadata": {
    "hide_cell": true
   },
   "source": [
    "This take-home quiz is due **at the beginning of class on Thursday 23 January**. You may use your own course materials, as well as any materials directly linked from the course website. **No collaboration allowed.**\n",
    "\n",
    "Type your answers **directly in this Jupyter notebook**, and submit this notebook (just the `ipynb` file) using the submission form found on the [course website](https://www.usna.edu/users/math/uhan/sa367/)."
   ]
  },
  {
   "cell_type": "markdown",
   "metadata": {},
   "source": [
    "## Problem 1"
   ]
  },
  {
   "cell_type": "code",
   "execution_count": 2,
   "metadata": {},
   "outputs": [
    {
     "name": "stdout",
     "output_type": "stream",
     "text": [
      "[426.335, 119.83400000000002, 168.207, 946.9720000000001, 231.62099999999998, 60.424, 927.524, 682.3050000000001, 889.733, 231.556]\n"
     ]
    }
   ],
   "source": [
    "# Money values in British pounds\n",
    "pounds = [327.95, 92.18, 129.39, 728.44, 178.17, 46.48, 713.48, 524.85, 684.41, 178.12]\n",
    "\n",
    "# Write your code here\n",
    "dollars = []\n",
    "for value in pounds:\n",
    "    dollars.append(value * 1.30)\n",
    "    \n",
    "print(dollars)"
   ]
  },
  {
   "cell_type": "markdown",
   "metadata": {},
   "source": [
    "## Problem 2"
   ]
  },
  {
   "cell_type": "code",
   "execution_count": 3,
   "metadata": {},
   "outputs": [
    {
     "name": "stdout",
     "output_type": "stream",
     "text": [
      "Giannis Antetokounmpo\n",
      "Eric Bledsoe\n",
      "Brook Lopez\n",
      "Khris Middleton\n"
     ]
    }
   ],
   "source": [
    "# Average PPG for players on the Milwaukee Bucks\n",
    "# From basketball-reference.com, 18 January 2020\n",
    "ppg = {}\n",
    "\n",
    "ppg['Giannis Antetokounmpo'] = 30.1\n",
    "ppg['Thanasis Antetokounmpo'] = 2.0\n",
    "ppg['Dragan Bender'] = 3.8\n",
    "ppg['Eric Bledsoe'] = 15.3\n",
    "ppg['Sterling Brown'] = 5.4\n",
    "ppg['Pat Connaughton'] = 5.0\n",
    "ppg['Donte DiVincenzo'] = 8.9\n",
    "ppg['George Hill'] = 10.0\n",
    "ppg['Ersan Ilyasova'] = 8.1\n",
    "ppg['Kyle Korver'] = 6.2\n",
    "ppg['Brook Lopez'] = 10.1\n",
    "ppg['Robin Lopez'] = 5.5\n",
    "ppg['Frank Mason'] = 1.3\n",
    "ppg['Wesley Matthews'] = 7.1\n",
    "ppg['Khris Middleton'] = 19.4\n",
    "ppg['D.J. Wilson'] = 3.3\n",
    "\n",
    "# Write your code here\n",
    "for player, points in ppg.items():\n",
    "    if points > 10:\n",
    "        print(player)"
   ]
  },
  {
   "cell_type": "markdown",
   "metadata": {
    "hide_cell": true
   },
   "source": [
    "## When you're finished"
   ]
  },
  {
   "cell_type": "markdown",
   "metadata": {
    "hide_cell": true
   },
   "source": [
    "* Select **Cell &#8594; Run All**  to run all the cells from top to bottom. Make sure your notebook runs as you expect before submitting it."
   ]
  }
 ],
 "metadata": {
  "kernelspec": {
   "display_name": "Python 3",
   "language": "python",
   "name": "python3"
  },
  "language_info": {
   "codemirror_mode": {
    "name": "ipython",
    "version": 3
   },
   "file_extension": ".py",
   "mimetype": "text/x-python",
   "name": "python",
   "nbconvert_exporter": "python",
   "pygments_lexer": "ipython3",
   "version": "3.6.4"
  },
  "latex_metadata": {
   "lesson": "5",
   "lessontitle": "Quiz 4 -- 7 February 2017",
   "shortlessontitle": "Quiz 4 -- 7 February 2017"
  }
 },
 "nbformat": 4,
 "nbformat_minor": 1
}
