{
 "cells": [
  {
   "cell_type": "markdown",
   "metadata": {
    "hide_cell": true
   },
   "source": [
    "<span class='note'>*Make me look good.* Click on the cell below and press <kbd>Ctrl</kbd>-<kbd>Enter</kbd>.</span>"
   ]
  },
  {
   "cell_type": "code",
   "execution_count": null,
   "metadata": {
    "hide_cell": true
   },
   "outputs": [],
   "source": [
    "from IPython.core.display import HTML\n",
    "def css_styling():\n",
    "    styles = open('css/custom.css', 'r').read()\n",
    "    return HTML(styles)\n",
    "css_styling()"
   ]
  },
  {
   "cell_type": "markdown",
   "metadata": {
    "hide_cell": true
   },
   "source": [
    "<h5 class='prehead'>SA367 &middot; Mathematical Models for Decision Making &middot; Spring 2018 &middot; Uhan</h5>\n",
    "\n",
    "<h1 class='lesson_title'>Quiz 2 &mdash; 25 January 2018</h1>"
   ]
  },
  {
   "cell_type": "markdown",
   "metadata": {
    "hide_cell": true
   },
   "source": [
    "## Instructions"
   ]
  },
  {
   "cell_type": "markdown",
   "metadata": {
    "hide_cell": true
   },
   "source": [
    "This take-home quiz is due **at the beginning of class on Thursday 25 January**.\n",
    "\n",
    "Type your answers **directly in this Jupyter notebook**, and submit this notebook (just the `ipynb` file) using the [SA367 submission form](https://script.google.com/a/usna.edu/macros/s/AKfycbztmCZWUZwdekL5yk-VJvfrpJrC_cOgP9onlTFp7bJSJDQgkh98/exec)."
   ]
  },
  {
   "cell_type": "markdown",
   "metadata": {},
   "source": [
    "## Problem 1"
   ]
  },
  {
   "cell_type": "code",
   "execution_count": null,
   "metadata": {},
   "outputs": [],
   "source": [
    "# Money values in Chinese Yuan\n",
    "yuan = [259.3, 874.9, 12.7, 795.2, 58.5, 616.5, 83.6, 786.1, 186.3, 78.2]\n",
    "\n",
    "# Write your code here\n",
    "dollars = []\n",
    "for value in yuan:\n",
    "    dollars.append(value * 0.16)\n",
    "    \n",
    "print(dollars)"
   ]
  },
  {
   "cell_type": "markdown",
   "metadata": {},
   "source": [
    "## Problem 2"
   ]
  },
  {
   "cell_type": "code",
   "execution_count": null,
   "metadata": {},
   "outputs": [],
   "source": [
    "# Average PPG for players on the Golden State Warriors\n",
    "# From basketball-reference.com, 18 January 2018\n",
    "ppg = {}\n",
    "\n",
    "ppg[\"Jordan Bell\"] = 5.1\n",
    "ppg[\"Omri Casspi\"] = 6.8\n",
    "ppg[\"Quinn Cook\"] = 3.2\n",
    "ppg[\"Stephen Curry\"] = 27.7\n",
    "ppg[\"Kevin Durant\"] = 26.2\n",
    "ppg[\"Draymond Green\"] = 11.1\n",
    "ppg[\"Andre Iguodala\"] = 5.7\n",
    "ppg[\"Damian Jones\"] = 0.0\n",
    "ppg[\"Patrick McCaw\"] = 4.1\n",
    "ppg[\"JaVale McGee\"] = 3.8\n",
    "ppg[\"Shaun Livingston\"] = 5.4\n",
    "ppg[\"Kevon Looney\"] = 3.0\n",
    "ppg[\"Zaza Pachulia\"] = 5.6\n",
    "ppg[\"Klay Thompson\"] = 20.9\n",
    "ppg[\"David West\"] = 7.0\n",
    "ppg[\"Nick Young\"] = 6.6\n",
    "\n",
    "# Write your code here\n",
    "for player, points in ppg.items():\n",
    "    if points < 5:\n",
    "        print(player)"
   ]
  },
  {
   "cell_type": "markdown",
   "metadata": {
    "hide_cell": true
   },
   "source": [
    "## When you're finished"
   ]
  },
  {
   "cell_type": "markdown",
   "metadata": {
    "hide_cell": true
   },
   "source": [
    "* Select **Cell &#8594; Run All**  to run all the cells from top to bottom. Make sure your notebook runs as you expect before submitting it."
   ]
  }
 ],
 "metadata": {
  "kernelspec": {
   "display_name": "Python 3",
   "language": "python",
   "name": "python3"
  },
  "language_info": {
   "codemirror_mode": {
    "name": "ipython",
    "version": 3
   },
   "file_extension": ".py",
   "mimetype": "text/x-python",
   "name": "python",
   "nbconvert_exporter": "python",
   "pygments_lexer": "ipython3",
   "version": "3.5.2"
  },
  "latex_metadata": {
   "lesson": "5",
   "lessontitle": "Quiz 4 -- 7 February 2017",
   "shortlessontitle": "Quiz 4 -- 7 February 2017"
  }
 },
 "nbformat": 4,
 "nbformat_minor": 1
}
