{
 "cells": [
  {
   "cell_type": "markdown",
   "metadata": {
    "hide_cell": true
   },
   "source": [
    "<span class='note'>*Make me look good.* Click on the cell below and press <kbd>Ctrl</kbd>-<kbd>Enter</kbd>.</span>"
   ]
  },
  {
   "cell_type": "code",
   "execution_count": null,
   "metadata": {
    "hide_cell": true
   },
   "outputs": [],
   "source": [
    "from IPython.core.display import HTML\n",
    "HTML(open('css/custom.css', 'r').read())"
   ]
  },
  {
   "cell_type": "markdown",
   "metadata": {
    "hide_cell": true
   },
   "source": [
    "<h5 class='prehead'>SA367 &middot; Mathematical Models for Decision Making &middot; Spring 2021 &middot; Uhan</h5>\n",
    "\n",
    "<h1 class='lesson_title'>Quiz 2 &mdash; 2/4/2021</h1>"
   ]
  },
  {
   "cell_type": "markdown",
   "metadata": {
    "hide_cell": true
   },
   "source": [
    "## Instructions"
   ]
  },
  {
   "cell_type": "markdown",
   "metadata": {
    "hide_cell": true
   },
   "source": [
    "This take-home quiz is due **at the beginning of class on Thursday 2/4**. You may use your own course materials, as well as any materials directly linked from the course website. **No collaboration allowed.**\n",
    "\n",
    "Type your answers **directly in this Jupyter notebook**, and submit this notebook (just the `ipynb` file) using the submission form on the [course website](https://www.usna.edu/users/math/uhan/sa367/)."
   ]
  },
  {
   "cell_type": "markdown",
   "metadata": {},
   "source": [
    "## Problem 1"
   ]
  },
  {
   "cell_type": "code",
   "execution_count": null,
   "metadata": {},
   "outputs": [],
   "source": [
    "# Money values in US Dollars\n",
    "dollars = [68.71, 91.78, 84.18, 82.31, 13.99, 8.7, 29.28, 30.38, 11.07, 43.7]\n",
    "\n",
    "# Write your code here\n"
   ]
  },
  {
   "cell_type": "markdown",
   "metadata": {},
   "source": [
    "## Problem 2"
   ]
  },
  {
   "cell_type": "code",
   "execution_count": null,
   "metadata": {},
   "outputs": [],
   "source": [
    "# From basketball-reference.com, 2/1/2021\n",
    "ppg = {}\n",
    "\n",
    "ppg['Sue Bird'] = 9.8\n",
    "ppg['Jordin Canada'] = 7.9\n",
    "ppg['Alysha Clark'] = 10.0\n",
    "ppg['Natasha Howard'] = 9.5\n",
    "ppg['Crystal Langhorne'] = 1.4\n",
    "ppg['Jewell Loyd'] = 15.5\n",
    "ppg['Ezi Magbegor'] = 6.5\n",
    "ppg['Ephiphanny Prince'] = 4.3\n",
    "ppg['Mercedes Russell'] = 3.5\n",
    "ppg['Breanna Stewart'] = 19.7\n",
    "ppg['Morgan Tuck'] = 1.7\n",
    "ppg['Sami Whitcomb'] = 8.1\n",
    "\n",
    "# Write your code here\n"
   ]
  },
  {
   "cell_type": "markdown",
   "metadata": {
    "hide_cell": true
   },
   "source": [
    "## When you're finished"
   ]
  },
  {
   "cell_type": "markdown",
   "metadata": {
    "hide_cell": true
   },
   "source": [
    "* Select **Cell &#8594; Run All**  to run all the cells from top to bottom. Make sure your notebook runs as you expect before submitting it."
   ]
  }
 ],
 "metadata": {
  "kernelspec": {
   "display_name": "Python 3",
   "language": "python",
   "name": "python3"
  },
  "language_info": {
   "codemirror_mode": {
    "name": "ipython",
    "version": 3
   },
   "file_extension": ".py",
   "mimetype": "text/x-python",
   "name": "python",
   "nbconvert_exporter": "python",
   "pygments_lexer": "ipython3",
   "version": "3.7.6"
  },
  "latex_metadata": {
   "lesson": "5",
   "lessontitle": "Quiz 4 -- 7 February 2017",
   "shortlessontitle": "Quiz 4 -- 7 February 2017"
  }
 },
 "nbformat": 4,
 "nbformat_minor": 1
}
